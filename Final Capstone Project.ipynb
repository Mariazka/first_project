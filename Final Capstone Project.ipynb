{
 "cells": [
  {
   "cell_type": "markdown",
   "metadata": {
    "collapsed": true
   },
   "source": [
    "# Final Capstone Projects\n",
    "\n",
    "Please refer to the [**Final Capstone Projects**](http://nbviewer.jupyter.org/github/jmportilla/Complete-Python-Bootcamp/tree/master/Final%20Capstone%20Projects/) folder to get all the info on final capstone project ideas and possible solutions!"
   ]
  },
  {
   "cell_type": "code",
   "execution_count": 2,
   "metadata": {},
   "outputs": [
    {
     "name": "stdout",
     "output_type": "stream",
     "text": [
      "Hi! Ice Axe speaking! This is a program to order ice!\n"
     ]
    }
   ],
   "source": [
    "print('Hi! Ice Axe speaking! This is a program to order ice!')"
   ]
  },
  {
   "cell_type": "code",
   "execution_count": 5,
   "metadata": {},
   "outputs": [
    {
     "name": "stdout",
     "output_type": "stream",
     "text": [
      "You can order ice with the delivery to you place in Mykolaiv.\n"
     ]
    }
   ],
   "source": [
    "print('You can order ice with the delivery to you place in Mykolaiv.')"
   ]
  },
  {
   "cell_type": "code",
   "execution_count": 11,
   "metadata": {},
   "outputs": [
    {
     "name": "stdout",
     "output_type": "stream",
     "text": [
      "The delivery around the central part of the city is free. For other districts, the delivery is calculated individually.\n"
     ]
    }
   ],
   "source": [
    "print('The delivery around the central part of the city is free. For other districts, the delivery is calculated individually.')"
   ]
  },
  {
   "cell_type": "code",
   "execution_count": 6,
   "metadata": {},
   "outputs": [
    {
     "name": "stdout",
     "output_type": "stream",
     "text": [
      "We sell ice in cubes, crushed ice and premium ice for cocktails.\n"
     ]
    }
   ],
   "source": [
    "print('We sell ice in cubes, crushed ice and premium ice for cocktails.')"
   ]
  },
  {
   "cell_type": "code",
   "execution_count": 8,
   "metadata": {},
   "outputs": [
    {
     "name": "stdout",
     "output_type": "stream",
     "text": [
      "Ice cubes and crushed ice is sold in packages on 5 kg. Price - 65 UAH for a pack.\n"
     ]
    }
   ],
   "source": [
    "print('Ice cubes and crushed ice is sold in packages on 5 kg. Price - 65 UAH for a pack.')"
   ]
  },
  {
   "cell_type": "code",
   "execution_count": 9,
   "metadata": {},
   "outputs": [
    {
     "name": "stdout",
     "output_type": "stream",
     "text": [
      "Premium ice of standard size - 5cm*5cm*7cm is sold by 24 packs of 24 pieces. Price - 72 UAH for a pack.\n"
     ]
    }
   ],
   "source": [
    "print('Premium ice of standard size - 5cm*5cm*7cm is sold by 24 packs of 24 pieces. Price - 72 UAH for a pack.')"
   ]
  },
  {
   "cell_type": "code",
   "execution_count": 10,
   "metadata": {},
   "outputs": [
    {
     "name": "stdout",
     "output_type": "stream",
     "text": [
      "The size of premium ice can be customized, please contact us by phone for individual order.\n"
     ]
    }
   ],
   "source": [
    "print('The size of premium ice can be customized, please contact us by phone for individual order.')"
   ]
  },
  {
   "cell_type": "code",
   "execution_count": 15,
   "metadata": {},
   "outputs": [],
   "source": [
    "ice = {'cubes':'65','crush':'65','premium':'72'}"
   ]
  },
  {
   "cell_type": "code",
   "execution_count": 147,
   "metadata": {},
   "outputs": [],
   "source": [
    "def ice_order():\n",
    "    \n",
    "    ice = {'cubes':65,'crush':65,'premium':72}\n",
    "    order_cubes = []\n",
    "    order_crush = []\n",
    "    order_premium = []\n",
    "    volume_cubes = 0\n",
    "    volume_crush = 0\n",
    "    volume_premium = 0\n",
    "        \n",
    "    while True:\n",
    "        choice = input('What kind of ice you would like to order? \\n1. Ice cubes - 5 kg \\n2. Crushed ice - 5 kg \\n3. Premium ice - 24 pieces \\n4. I do not want to order now. Please cancel the order.')\n",
    "        if choice == '1':\n",
    "            order_cubes.append('cubes')\n",
    "            how_many_cubes = input('How many of cube packs you would like to order?')\n",
    "            if int(how_many_cubes) > 0:\n",
    "                volume_cubes = int(how_many_cubes)\n",
    "            more = input('Do you want to continue order? \\n1. Yes \\n2. No') \n",
    "            if more == '1':\n",
    "                continue\n",
    "            if more != '1':\n",
    "                print('Thank you for your order!')\n",
    "                continue_order = False\n",
    "                break\n",
    "                \n",
    "        if choice == '2':\n",
    "            order_crush.append('crush')\n",
    "            how_many_crush = input('How many of cruched ice packs you would like to order?')\n",
    "            if int(how_many_crush) > 0:\n",
    "                 volume_crush = int(how_many_crush)\n",
    "            more = input('Do you want to continue order? \\n1. Yes \\n2. No') \n",
    "            if more == '1':\n",
    "                continue\n",
    "            if more != '1':\n",
    "                print('Thank you for your order!')\n",
    "                continue_order = False\n",
    "                break        \n",
    "\n",
    "        if choice == '3':\n",
    "            order_premium.append('premium')\n",
    "            how_many_premium = input('How many premium ice packs you would like to order?')\n",
    "            if int(how_many_premium) > 0:\n",
    "                 volume_premium = int(how_many_premium)\n",
    "            more = input('Do you want to continue order? \\n1. Yes \\n2. No') \n",
    "            if more == '1':\n",
    "                continue\n",
    "            if more != '1':\n",
    "                print('Thank you for your order!')\n",
    "                continue_order = False\n",
    "                break        \n",
    "\n",
    "        if choice == '4':\n",
    "            print('Thank you for checking our program. You may contact us via tel. ********* or through Instagram.')\n",
    "            break\n",
    "            \n",
    "    \n",
    "    print('You have ordered ' + str(volume_cubes) + ' packs of cubes, ' + str(volume_crush) + ' packs of crush, ' + str(volume_premium) + ' packs of premium ice.')\n",
    "    total_sum = volume_cubes*ice['cubes'] + volume_crush*ice['crush'] + volume_premium*ice['premium']\n",
    "    print('The total price of your order is: ' + str(total_sum) + ' UAH') \n",
    "    \n",
    "    "
   ]
  },
  {
   "cell_type": "code",
   "execution_count": 148,
   "metadata": {},
   "outputs": [
    {
     "name": "stdout",
     "output_type": "stream",
     "text": [
      "What kind of ice you would like to order? \n",
      "1. Ice cubes - 5 kg \n",
      "2. Crushed ice - 5 kg \n",
      "3. Premium ice - 24 pieces \n",
      "4. I do not want to order now. Please cancel the order.5\n",
      "What kind of ice you would like to order? \n",
      "1. Ice cubes - 5 kg \n",
      "2. Crushed ice - 5 kg \n",
      "3. Premium ice - 24 pieces \n",
      "4. I do not want to order now. Please cancel the order.4\n",
      "Thank you for checking our program. You may contact us via tel. ********* or through Instagram.\n",
      "You have ordered 0 packs of cubes, 0 packs of crush, 0 packs of premium ice.\n",
      "The total price of your order is: 0 UAH\n"
     ]
    }
   ],
   "source": [
    "ice_order()"
   ]
  },
  {
   "cell_type": "code",
   "execution_count": 224,
   "metadata": {},
   "outputs": [],
   "source": [
    "class TotalSum:\n",
    "    total_sum = volume_cubes*ice['cubes'] + volume_crush*ice['crush'] + volume_premium*ice['premium']\n"
   ]
  },
  {
   "cell_type": "code",
   "execution_count": 2,
   "metadata": {},
   "outputs": [],
   "source": [
    "#working\n",
    "\n",
    "import pandas as pd\n",
    "import geopandas as gpd\n",
    "import geopy\n",
    "from geopy.geocoders import Nominatim\n",
    "from geopy.extra.rate_limiter import RateLimiter\n",
    "import matplotlib.pyplot as plt\n",
    "\n",
    "def ice_order():\n",
    "    print('Hi! Ice Axe speaking! This is a program to order ice!')\n",
    "    name = input('How can I call you?')\n",
    "    print(name + ', you can order ice with the delivery to you place in Mykolaiv.')\n",
    "    print('The delivery around the central part of the city is free. \\nFor other districts, the delivery is calculated individually.')\n",
    "    print('We sell ice in cubes, crushed ice and premium ice for cocktails.')\n",
    "    print('Ice cubes and crushed ice are sold in packages of 5 kg. Price - 65 UAH for a pack.')\n",
    "    print('Premium ice of standard size - 5cm*5cm*7cm is sold by 24 packs of 24 pieces. Price - 72 UAH for a pack.')\n",
    "    print('The size of premium ice can be customized, please contact us by phone for individual order.')\n",
    "    \n",
    "    ice = {'cubes':65,'crush':65,'premium':72}\n",
    "    order_cubes = []\n",
    "    order_crush = []\n",
    "    order_premium = []\n",
    "    volume_cubes = 0\n",
    "    volume_crush = 0\n",
    "    volume_premium = 0\n",
    "        \n",
    "    while True:\n",
    "        choice = input(name+ ', what kind of ice you would like to order? \\n1. Ice cubes - 5 kg \\n2. Crushed ice - 5 kg \\n3. Premium ice - 24 pieces \\n4. I do not want to order now. Please cancel the order.')\n",
    "        if choice == '1':\n",
    "            order_cubes.append('cubes')\n",
    "            how_many_cubes = input('How many of cube packs you would like to order?')\n",
    "            if int(how_many_cubes) > 0:\n",
    "                volume_cubes = int(how_many_cubes)\n",
    "            more = input('Do you want to continue order? \\n1. Yes \\n2. No') \n",
    "            if more == '1':\n",
    "                continue\n",
    "            if more != '1':\n",
    "                print('Thank you for your order!')\n",
    "                continue_order = False\n",
    "                break\n",
    "                \n",
    "        if choice == '2':\n",
    "            order_crush.append('crush')\n",
    "            how_many_crush = input('How many of cruched ice packs you would like to order?')\n",
    "            if int(how_many_crush) > 0:\n",
    "                 volume_crush = int(how_many_crush)\n",
    "            more = input('Do you want to continue order? \\n1. Yes \\n2. No') \n",
    "            if more == '1':\n",
    "                continue\n",
    "            if more != '1':\n",
    "                print('Thank you for your order!')\n",
    "                continue_order = False\n",
    "                break        \n",
    "\n",
    "        if choice == '3':\n",
    "            order_premium.append('premium')\n",
    "            how_many_premium = input('How many premium ice packs you would like to order?')\n",
    "            if int(how_many_premium) > 0:\n",
    "                 volume_premium = int(how_many_premium)\n",
    "            more = input('Do you want to continue order? \\n1. Yes \\n2. No') \n",
    "            if more == '1':\n",
    "                continue\n",
    "            if more != '1':\n",
    "                print('Thank you for your order!')\n",
    "                continue_order = False\n",
    "                break        \n",
    "\n",
    "        if choice == '4':\n",
    "            print('Thank you for checking our program. You may contact us via tel. ********* or through Instagram.')\n",
    "            break\n",
    "            \n",
    "    \n",
    "    print('You have ordered ' + str(volume_cubes) + ' packs of cubes, ' + str(volume_crush) + ' packs of crush, ' + str(volume_premium) + ' packs of premium ice.')\n",
    "    global total_sum\n",
    "    total_sum = volume_cubes*ice['cubes'] + volume_crush*ice['crush'] + volume_premium*ice['premium']\n",
    "    print('The total price of your order is: ' + str(total_sum) + ' UAH') \n",
    "\n",
    "#to add whether the shipping is free  \n",
    "def shipping():\n",
    "    global shipping_cost\n",
    "    locator = Nominatim(user_agent='myGeocoder')\n",
    "    street = input('Please, enter your street: ')\n",
    "    number = input('Please, enter your house num: ')\n",
    "    location = locator.geocode( street + ',' + number + ', Николаев, Украина')\n",
    "    #print(location.address)\n",
    "    #print(\"Latitude = {}, Longitude = {}\".format(location.latitude, location.longitude))\n",
    "    #октябрьское\n",
    "    if 46.9367354190636 > location.latitude > 46.849484180244865 and 32.05816217676812 > location.longitude > 31.988416072049525:\n",
    "        shipping_cost = 80\n",
    "        print(street + ', '+ number + '. It is Korabelniy district. Shipping cost is ' + str(shipping_cost) + ' UAH')\n",
    "    #соляные\n",
    "    elif 47.01696835873679 > location.latitude > 46.97574697780666 and 32.03429246518513 > location.longitude > 31.984751917274174:\n",
    "        shipping_cost = 40\n",
    "        print(street + ', '+ number + '. It is Solyaniye. Shipping cost is ' + str(shipping_cost) + ' UAH')    \n",
    "    #намыв\n",
    "    elif 46.968038 > location.latitude > 46.94122695827303 and 31.97083629350653 > location.longitude > 31.925545620225805:\n",
    "        shipping_cost = 40\n",
    "        print(street + ', '+ number + '. It is Namyv. Shipping cost is ' + str(shipping_cost) + ' UAH')\n",
    "    #центр\n",
    "    elif 46.98621279031656 > location.latitude > 46.94092524133059 and 32.07251871638661 > location.longitude > 31.951378:\n",
    "        shipping_cost = 0\n",
    "        print(street + ', '+ number + '. This is centre. Shipping cost is ' + str(shipping_cost) + ' UAH')\n",
    "    else:\n",
    "        print('Oops! Sorry, something went wrong and we did not manage to identify your address, /nthe cost of delivery will be calculated separately.')\n",
    "        print('The cost of delivery within the central part of the city is 0 UAH.')\n",
    "        print('For other parts of the city:\\nKorabelniy dist - 80 UAH\\nNamyv - 40 UAH\\nSolyaniye and Raketka - 40 UAH')\n",
    "        shipping_cost = 0    \n",
    "    \n",
    "def cost_of_shipping():\n",
    "        if total_sum >= 300:\n",
    "            print('Since your order is more than 300 UAH, the cost of shipping is 0 UAH. The total price of your order is: ' + str(total_sum) + 'UAH.')\n",
    "            print('You will be contacted soon to confirm your order.')\n",
    "        if total_sum < 300:\n",
    "            print('The total price of your order is: ' + str(total_sum + shipping_cost) + ' UAH.')\n",
    "            print('You will be contacted soon to confirm your order.')\n",
    "            input('Please, provide your tel. number: ')\n",
    "            print('Thanks! We will call you ASAP.')"
   ]
  },
  {
   "cell_type": "code",
   "execution_count": 3,
   "metadata": {},
   "outputs": [
    {
     "name": "stdout",
     "output_type": "stream",
     "text": [
      "Hi! Ice Axe speaking! This is a program to order ice!\n",
      "How can I call you?Slavik\n",
      "Slavik, you can order ice with the delivery to you place in Mykolaiv.\n",
      "The delivery around the central part of the city is free. \n",
      "For other districts, the delivery is calculated individually.\n",
      "We sell ice in cubes, crushed ice and premium ice for cocktails.\n",
      "Ice cubes and crushed ice are sold in packages of 5 kg. Price - 65 UAH for a pack.\n",
      "Premium ice of standard size - 5cm*5cm*7cm is sold by 24 packs of 24 pieces. Price - 72 UAH for a pack.\n",
      "The size of premium ice can be customized, please contact us by phone for individual order.\n",
      "Slavik, what kind of ice you would like to order? \n",
      "1. Ice cubes - 5 kg \n",
      "2. Crushed ice - 5 kg \n",
      "3. Premium ice - 24 pieces \n",
      "4. I do not want to order now. Please cancel the order.1\n",
      "How many of cube packs you would like to order?3\n",
      "Do you want to continue order? \n",
      "1. Yes \n",
      "2. No1\n",
      "Slavik, what kind of ice you would like to order? \n",
      "1. Ice cubes - 5 kg \n",
      "2. Crushed ice - 5 kg \n",
      "3. Premium ice - 24 pieces \n",
      "4. I do not want to order now. Please cancel the order.2\n",
      "How many of cruched ice packs you would like to order?1\n",
      "Do you want to continue order? \n",
      "1. Yes \n",
      "2. No2\n",
      "Thank you for your order!\n",
      "You have ordered 3 packs of cubes, 1 packs of crush, 0 packs of premium ice.\n",
      "The total price of your order is: 260 UAH\n",
      "Please, enter your street: лазурная\n",
      "Please, enter your house num: 10\n",
      "лазурная, 10. It is Namyv. Shipping cost is 40 UAH\n",
      "The total price of your order is: 300 UAH.\n",
      "You will be contacted soon to confirm your order.\n",
      "Please, provide your tel. number: 53212\n",
      "Thanks! We will call you ASAP.\n"
     ]
    }
   ],
   "source": [
    "ice_order()\n",
    "shipping()\n",
    "cost_of_shipping()"
   ]
  },
  {
   "cell_type": "code",
   "execution_count": null,
   "metadata": {},
   "outputs": [],
   "source": [
    "def cost_of_shipping(total_sum):\n",
    "    if total_sum >= 300:\n",
    "        print('The cost of shipping is 0 UAH. The total price of your order is: ' + str(total_sum) + 'UAH.')\n",
    "        print('You will be contacted soon to confirm your order.')\n",
    "    if total_sum < 300:\n",
    "        print('The cost of shipping is 40 UAH. The total price of your order is: ' + str(total_sum + 40) + 'UAH.')\n",
    "        print('You will be contacted soon to confirm your order.')        "
   ]
  },
  {
   "cell_type": "code",
   "execution_count": 175,
   "metadata": {},
   "outputs": [
    {
     "name": "stdout",
     "output_type": "stream",
     "text": [
      "The cost of shipping is 40 UAH. The total price of your order is: 240UAH.\n",
      "You will be contacted soon to confirm your order.\n"
     ]
    }
   ],
   "source": [
    "cost_of_shipping(200)"
   ]
  },
  {
   "cell_type": "code",
   "execution_count": null,
   "metadata": {},
   "outputs": [],
   "source": []
  }
 ],
 "metadata": {
  "kernelspec": {
   "display_name": "Python 3 (ipykernel)",
   "language": "python",
   "name": "python3"
  },
  "language_info": {
   "codemirror_mode": {
    "name": "ipython",
    "version": 3
   },
   "file_extension": ".py",
   "mimetype": "text/x-python",
   "name": "python",
   "nbconvert_exporter": "python",
   "pygments_lexer": "ipython3",
   "version": "3.9.7"
  }
 },
 "nbformat": 4,
 "nbformat_minor": 1
}
